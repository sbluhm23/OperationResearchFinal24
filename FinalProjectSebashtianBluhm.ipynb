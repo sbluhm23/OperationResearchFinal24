{
 "cells": [
  {
   "cell_type": "code",
   "execution_count": 4,
   "id": "6fcef51e-cc2a-441d-bf9d-7e55c7d9daeb",
   "metadata": {},
   "outputs": [],
   "source": [
    "import json\n",
    "import networkx as nx\n",
    "import matplotlib.pyplot as plt"
   ]
  },
  {
   "cell_type": "code",
   "execution_count": 5,
   "id": "911d4602",
   "metadata": {},
   "outputs": [
    {
     "name": "stdout",
     "output_type": "stream",
     "text": [
      "[{'Recipient': 'B', 'Donor': ['AB', 'A']}, {'Recipient': 'O', 'Donor': ['AB', 'B', 'A']}, {'Recipient': 'O', 'Donor': ['AB', 'B', 'A']}, {'Recipient': 'B', 'Donor': ['AB', 'A']}, {'Recipient': 'B', 'Donor': ['A']}]\n"
     ]
    }
   ],
   "source": [
    "# Read data and draw some figures\n",
    "import json\n",
    "\n",
    "# Open and read the JSON file\n",
    "with open('APF-south.json', 'r') as file:\n",
    "    data = json.load(file)\n",
    "\n",
    "# Print the data sample\n",
    "print(data[:5]) "
   ]
  },
  {
   "cell_type": "code",
   "execution_count": 7,
   "id": "302519bf",
   "metadata": {},
   "outputs": [
    {
     "name": "stdout",
     "output_type": "stream",
     "text": [
      "[0, 1, 2, 3, 4, 5, 6, 7, 8, 9, 10, 11, 12, 13, 14, 15, 16, 17, 18, 19, 20, 21, 22, 23, 24, 25, 26, 27, 28, 29, 30, 31, 32, 33, 34, 35, 36, 37, 38, 39, 40, 41, 42, 43, 44, 45, 46, 47, 48, 49, 50, 51, 52, 53, 54, 55, 56, 57, 58, 59, 60, 61, 62, 63, 64, 65, 66, 67, 68, 69, 70, 71, 72, 73, 74, 75, 76, 77, 78, 79, 80, 81, 82, 83, 84, 85, 86, 87, 88, 89, 90, 91, 92, 93, 94, 95, 96, 97, 98, 99, 100, 101, 102, 103, 104, 105, 106, 107, 108, 109, 110, 111, 112, 113, 114, 115, 116, 117, 118, 119, 120, 121, 122, 123, 124, 125, 126, 127, 128, 129, 130, 131, 132, 133, 134, 135, 136, 137, 138, 139, 140, 141, 142, 143, 144, 145, 146, 147, 148, 149, 150, 151, 152, 153, 154, 155, 156, 157, 158, 159, 160, 161, 162, 163, 164, 165, 166, 167, 168, 169, 170, 171, 172, 173, 174, 175, 176, 177, 178, 179, 180, 181, 182, 183, 184, 185, 186, 187, 188, 189, 190, 191, 192, 193, 194, 195, 196, 197, 198, 199, 200, 201, 202, 203, 204, 205, 206, 207, 208, 209, 210, 211, 212, 213, 214, 215, 216, 217, 218, 219, 220, 221, 222, 223, 224, 225, 226, 227, 228, 229, 230, 231, 232, 233, 234, 235, 236, 237, 238, 239, 240, 241, 242, 243, 244, 245, 246, 247, 248, 249, 250, 251, 252, 253, 254, 255, 256, 257, 258, 259, 260, 261, 262, 263, 264, 265, 266, 267, 268, 269, 270, 271, 272, 273, 274, 275, 276, 277, 278, 279, 280, 281, 282, 283, 284, 285, 286, 287, 288, 289, 290, 291, 292, 293, 294, 295, 296, 297, 298, 299, 300, 301, 302, 303, 304, 305, 306, 307, 308, 309, 310, 311, 312, 313, 314, 315, 316, 317, 318, 319, 320, 321, 322, 323, 324, 325, 326, 327, 328, 329, 330, 331, 332, 333, 334, 335, 336, 337, 338, 339, 340, 341, 342, 343, 344, 345, 346, 347, 348, 349, 350, 351, 352, 353, 354, 355, 356, 357, 358, 359, 360, 361, 362, 363, 364, 365, 366, 367, 368, 369, 370, 371, 372, 373, 374, 375, 376, 377, 378, 379, 380, 381, 382, 383, 384, 385, 386, 387, 388, 389, 390, 391, 392, 393, 394, 395, 396, 397, 398, 399, 400, 401, 402, 403, 404, 405, 406, 407, 408, 409, 410, 411, 412, 413, 414, 415, 416, 417, 418, 419, 420, 421, 422, 423, 424, 425, 426, 427, 428, 429, 430, 431, 432, 433, 434, 435, 436, 437, 438, 439, 440, 441, 442, 443, 444, 445, 446, 447, 448, 449, 450, 451, 452, 453, 454, 455, 456, 457, 458, 459, 460, 461, 462, 463, 464, 465, 466, 467, 468, 469, 470, 471, 472, 473, 474, 475, 476, 477, 478, 479, 480, 481, 482, 483, 484, 485, 486, 487, 488, 489, 490, 491, 492, 493, 494, 495, 496, 497, 498, 499, 500, 501, 502, 503, 504, 505, 506, 507, 508, 509, 510, 511, 512, 513, 514, 515, 516, 517, 518, 519, 520, 521, 522, 523, 524, 525, 526, 527, 528, 529, 530, 531, 532, 533, 534, 535, 536, 537, 538, 539, 540, 541, 542, 543, 544, 545, 546, 547, 548, 549, 550, 551, 552, 553, 554, 555, 556, 557, 558, 559, 560, 561, 562, 563, 564, 565, 566, 567, 568, 569, 570, 571, 572, 573, 574, 575, 576, 577, 578, 579, 580, 581, 582, 583, 584, 585, 586, 587, 588, 589, 590, 591, 592, 593, 594, 595, 596, 597, 598, 599, 600, 601, 602, 603, 604, 605, 606, 607, 608, 609, 610, 611, 612, 613, 614, 615, 616, 617, 618, 619, 620, 621, 622, 623, 624, 625, 626, 627, 628, 629, 630, 631, 632, 633, 634, 635, 636, 637, 638, 639, 640, 641, 642, 643, 644, 645, 646, 647, 648, 649, 650, 651, 652, 653, 654, 655, 656, 657, 658, 659, 660, 661, 662, 663, 664, 665, 666, 667, 668, 669, 670, 671, 672, 673, 674, 675, 676, 677, 678, 679, 680, 681, 682, 683, 684, 685, 686, 687, 688, 689, 690, 691, 692, 693, 694, 695, 696, 697, 698, 699, 700, 701, 702, 703, 704, 705, 706, 707, 708, 709, 710, 711, 712, 713, 714, 715, 716, 717, 718, 719, 720]\n",
      "172284\n"
     ]
    }
   ],
   "source": [
    "#import networkx as nx\n",
    "\n",
    "\n",
    "# Create a graph\n",
    "G = nx.DiGraph()\n",
    "\n",
    "# Create nodes\n",
    "counter = 0\n",
    "for element in data: #for each element in the data it will create a node and add it to the counter\n",
    "    #print(element)\n",
    "    G.add_nodes_from([(counter, element)])\n",
    "    counter += 1\n",
    "#this gave us 720 nodes to check\n",
    "print(G.nodes)\n",
    "\n",
    "donor_recipient_compatibility = {'O': ['O', 'A', 'B', 'AB'], 'A': ['A', 'AB'], 'B':['B', 'AB'], 'AB':['AB']}\n",
    "#which blood types are compatible with each other type o can do go to any but O must receive O\n",
    "\n",
    "# Create edges (relations)\n",
    "for node in G.nodes: #for all nodes\n",
    "    donors = G.nodes[node]['Donor'] #pulls donor data from list \n",
    "    #print(donors)\n",
    "    for donor in donors: #for each blood type in donor\n",
    "        for vertex in G.nodes: #checks each node\n",
    "            if node == vertex: continue #this skips if the current node is the same as the donor check\n",
    "            recipient = G.nodes[vertex]['Recipient'] #pulls recipient data\n",
    "            \n",
    "            if recipient not in donor_recipient_compatibility[donor]: continue #this skips if blood type not donatable\n",
    "            if recipient in donor_recipient_compatibility[donor]: G.add_edge(node, vertex)    #this adds an edge if \n",
    "\n",
    "print(G.number_of_edges())   \n",
    "#print('edges:', list(G.edges))  #data checkpoints\n",
    "\n"
   ]
  },
  {
   "cell_type": "code",
   "execution_count": null,
   "id": "d85f70a7",
   "metadata": {},
   "outputs": [
    {
     "name": "stdout",
     "output_type": "stream",
     "text": [
      "20450880\n",
      "0\n",
      "32336\n"
     ]
    }
   ],
   "source": [
    "# Find cycles of length 3\n",
    "import csv \n",
    "\n",
    "potential_cycle_3 = [] #init list of cycles\n",
    "\n",
    "\n",
    "with open(\"cycles.csv\",\"w\",newline='') as file:\n",
    "    writer = csv.writer(file)\n",
    "\n",
    "    writer.writerow([\"Cycle Type\", \"Nodes\"])\n",
    "    writer.writerow([\"Cycle 3\"])\n",
    "\n",
    "    H = G.to_undirected() #takes direction out of nodes to find cycles easier\n",
    "\n",
    "    for (u,v) in H.edges: #adds all the close neighbors as potential cycles to check\n",
    "        for k in nx.common_neighbors(H, u, v):\n",
    "            potential_cycle_3.append((u,v,k))\n",
    "                    \n",
    "            \n",
    "    cycle_3 = [] #init list of confirmed cycle 3\n",
    "\n",
    "    for (u,v,k) in potential_cycle_3: #this iterates through each element in potential cycle to check if it is directed in G \n",
    "        if (u,v) in G.edges and (v,k) in G.edges and (k,u) in G.edges: #only appends if cycle completes\n",
    "            cycle_3.append((u,v,k,u)) \n",
    "            writer.writerow([\"Cycle of 3\", [u,v,k,u]]) \n",
    "\n",
    "        if (v,u) in G.edges and (u,k) in G.edges and (k,v) in G.edges: #checks the reverse of the node since it is undirected\n",
    "            cycle_3.append((v,u,k,v))\n",
    "            writer.writerow([\"Cycle of 3\", [v,u,k,v]])\n",
    "    \n",
    "    if len(cycle_3)==0: #if no cycles of 3 print N/A message\n",
    "        writer.writerow([\"N/A\"])\n",
    "\n",
    "    cycle_2 = []\n",
    "    writer.writerow([\"Cycle 2\"])\n",
    "\n",
    "    for (i,j) in G.edges: #checks for cycles of 2\n",
    "        G.edges[(i,j)][\"visited\"] = False\n",
    "\n",
    "    for (i,j) in G.edges:\n",
    "        if G.edges[(i,j)][\"visited\"] == True: continue\n",
    "        if (j,i) in G.edges:\n",
    "            cycle_2.append((i,j,i))\n",
    "            G.edges[(j,i)][\"visited\"] = True\n",
    "            writer.writerow([i,j])\n",
    "    if len(cycle_2)==0:\n",
    "        writer.writerow([\"N/A\"])\n",
    "\n",
    "    \n",
    "#these are just check messages\n",
    "print(len(potential_cycle_3))\n",
    "print(len(cycle_3))\n",
    "print(len(cycle_2))\n",
    "\n",
    "\n"
   ]
  },
  {
   "cell_type": "code",
   "execution_count": 6,
   "id": "8859c6bd",
   "metadata": {},
   "outputs": [
    {
     "name": "stdout",
     "output_type": "stream",
     "text": [
      "Set parameter Username\n",
      "\n",
      "--------------------------------------------\n",
      "Warning: your license will expire in 14 days\n",
      "--------------------------------------------\n",
      "\n",
      "Academic license - for non-commercial use only - expires 2024-12-11\n",
      "Gurobi Optimizer version 11.0.3 build v11.0.3rc0 (win64 - Windows 11.0 (22631.2))\n",
      "\n",
      "CPU model: AMD Ryzen 7 7840HS with Radeon 780M Graphics, instruction set [SSE2|AVX|AVX2|AVX512]\n",
      "Thread count: 8 physical cores, 16 logical processors, using up to 16 threads\n",
      "\n",
      "Optimize a model with 1442 rows, 172284 columns and 301628 nonzeros\n",
      "Model fingerprint: 0x132e4fea\n",
      "Variable types: 0 continuous, 172284 integer (172284 binary)\n",
      "Coefficient statistics:\n",
      "  Matrix range     [1e+00, 1e+00]\n",
      "  Objective range  [1e+00, 1e+00]\n",
      "  Bounds range     [1e+00, 1e+00]\n",
      "  RHS range        [1e+00, 1e+00]\n",
      "Found heuristic solution: objective -0.0000000\n",
      "Presolve removed 722 rows and 106892 columns\n",
      "Presolve time: 0.40s\n",
      "Presolved: 720 rows, 65392 columns, 130424 nonzeros\n",
      "Variable types: 0 continuous, 65392 integer (65392 binary)\n",
      "\n",
      "Root relaxation: objective 3.440000e+02, 2294 iterations, 0.14 seconds (0.29 work units)\n",
      "\n",
      "    Nodes    |    Current Node    |     Objective Bounds      |     Work\n",
      " Expl Unexpl |  Obj  Depth IntInf | Incumbent    BestBd   Gap | It/Node Time\n",
      "\n",
      "*    0     0               0     344.0000000  344.00000  0.00%     -    0s\n",
      "\n",
      "Explored 1 nodes (2294 simplex iterations) in 0.74 seconds (0.81 work units)\n",
      "Thread count was 16 (of 16 available processors)\n",
      "\n",
      "Solution count 2: 344 -0 \n",
      "\n",
      "Optimal solution found (tolerance 1.00e-04)\n",
      "Best objective 3.440000000000e+02, best bound 3.440000000000e+02, gap 0.0000%\n"
     ]
    }
   ],
   "source": [
    "# Let's find a maximum matching\n",
    "import gurobipy as gp\n",
    "from gurobipy import GRB\n",
    "\n",
    "# Create model object\n",
    "m = gp.Model()\n",
    "\n",
    "# Create variable for each edge\n",
    "x = m.addVars(G.edges, vtype=GRB.BINARY)\n",
    "\n",
    "\n",
    "# Objective function: maximize number of edges\n",
    "m.setObjective(gp.quicksum(x[e] for e in G.edges), GRB.MAXIMIZE)\n",
    "\n",
    "# The number of incomming arcs to each vertex is at most one\n",
    "m.addConstrs(gp.quicksum(x[(u,v)] for u in G.neighbors(v) if (u,v) in G.edges) <= 1 for v in G.nodes)\n",
    "\n",
    "# The number of incomming arcs should be equal to the number of outgoing arcs\n",
    "m.addConstrs(gp.quicksum(x[(u,v)] for u in G.neighbors(v) if (u,v) in G.edges) == gp.quicksum(x[(v,u)] for u in G.neighbors(v) if (v,u) in G.edges) for v in G.nodes)\n",
    "\n",
    "# Solve\n",
    "m.optimize()"
   ]
  },
  {
   "cell_type": "code",
   "execution_count": 7,
   "id": "5717f476",
   "metadata": {},
   "outputs": [
    {
     "name": "stdout",
     "output_type": "stream",
     "text": [
      "Objective: 344.0\n"
     ]
    }
   ],
   "source": [
    "print(\"Objective:\",m.objVal) #this determines the maximum amount of edges that can be developed \n",
    "\n",
    "selected_edges = [e for e in G.edges if x[e].X > 0.5]\n",
    "\n",
    "with open(\"matches.csv\",\"w\",newline='') as file:\n",
    "    writer = csv.writer(file)\n",
    "    writer\n",
    "    for i in selected_edges:\n",
    "        writer.writerow([i])"
   ]
  }
 ],
 "metadata": {
  "kernelspec": {
   "display_name": "py38",
   "language": "python",
   "name": "py38"
  },
  "language_info": {
   "codemirror_mode": {
    "name": "ipython",
    "version": 3
   },
   "file_extension": ".py",
   "mimetype": "text/x-python",
   "name": "python",
   "nbconvert_exporter": "python",
   "pygments_lexer": "ipython3",
   "version": "3.8.19"
  }
 },
 "nbformat": 4,
 "nbformat_minor": 5
}
